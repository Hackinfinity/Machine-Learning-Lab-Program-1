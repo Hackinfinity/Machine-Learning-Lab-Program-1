{
 "cells": [
  {
   "cell_type": "markdown",
   "metadata": {},
   "source": [
    "# Find-S Algorithm:\n",
    "## Algorithm:\n",
    "1. Initialize h to the most specific hypothesis in H\n",
    "2. For each positive training instance x\n",
    "        i. For each attribute constraint a i in h :\n",
    "            a. If the constraint a i in h is satisfied by x Then do nothing\n",
    "            b. Else replace a i in h by the next more general constraint that is satisfied by x\n",
    "3. Output hypothesis h\n"
   ]
  },
  {
   "cell_type": "code",
   "execution_count": 1,
   "metadata": {},
   "outputs": [],
   "source": [
    "import csv"
   ]
  },
  {
   "cell_type": "markdown",
   "metadata": {},
   "source": [
    "### Read File:\n",
    "Load the csv file and asign each row to a data frame\n",
    "Also print the row to see the dataset (optional)"
   ]
  },
  {
   "cell_type": "code",
   "execution_count": 2,
   "metadata": {},
   "outputs": [
    {
     "name": "stdout",
     "output_type": "stream",
     "text": [
      "['Sunny', 'Warm', 'Normal', 'Strong', 'Warm', 'Same', 'Yes']\n",
      "['Sunny', 'Warm', 'High', 'Strong', 'Warm', 'Same', 'Yes']\n",
      "['Rainy', 'Cold', 'High', 'Strong', 'Warm', 'Change', 'No']\n",
      "['Sunny', 'Warm', 'High', 'Strong', 'Cool', 'Change', 'Yes']\n"
     ]
    }
   ],
   "source": [
    "a=[]\n",
    "with open('finds.csv') as csfile:\n",
    "    reader = csv.reader(csfile)\n",
    "    for row in reader:\n",
    "        a.append(row)\n",
    "        print(row)\n",
    "num_attributes=len(a[0])-1"
   ]
  },
  {
   "cell_type": "markdown",
   "metadata": {},
   "source": [
    "1. The most general hypothesis is represented by:\n",
    "    ```['?', '?', '?', '?', '?', '?']```\n",
    "2. The most specific hypothesis is represented by:\n",
    "    ```['0', '0', '0', '0', '0', '0']```"
   ]
  },
  {
   "cell_type": "code",
   "execution_count": null,
   "metadata": {},
   "outputs": [],
   "source": [
    "print(\"The most general hypothesis:\",[\"?\"]*num_attributes)\n",
    "print(\"The most specific hypothesis:\",[\"0\"]*num_attributes)"
   ]
  },
  {
   "cell_type": "markdown",
   "metadata": {},
   "source": [
    "### Algorithm Implementation:\n",
    "Implementation of the above algorithm by updaing the hypothesis at each iteration and output the final hypothesis."
   ]
  },
  {
   "cell_type": "code",
   "execution_count": null,
   "metadata": {},
   "outputs": [],
   "source": [
    "hypothesis=a[0][:-1]\n",
    "print(\"\\n Find S: Finding a maximally specific hypothesis\")\n",
    "for i in range (len(a)):\n",
    "    if a[i][num_attributes] == \"Yes\":\n",
    "        for j in range(num_attributes):\n",
    "            if a[i][j]!=hypothesis[j]:\n",
    "                hypothesis[j]='?'\n",
    "    print(\"The taining example no:\",i+1,\" the hyposthesis is:\",hypothesis)\n",
    "print(\"\\n The maximally specific hypohthesis for training set is\")\n",
    "print(hypothesis)"
   ]
  }
 ],
 "metadata": {
  "kernelspec": {
   "display_name": "Python 3",
   "language": "python",
   "name": "python3"
  },
  "language_info": {
   "codemirror_mode": {
    "name": "ipython",
    "version": 3
   },
   "file_extension": ".py",
   "mimetype": "text/x-python",
   "name": "python",
   "nbconvert_exporter": "python",
   "pygments_lexer": "ipython3",
   "version": "3.6.5"
  }
 },
 "nbformat": 4,
 "nbformat_minor": 2
}
